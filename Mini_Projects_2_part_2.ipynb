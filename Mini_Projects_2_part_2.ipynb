{
  "nbformat": 4,
  "nbformat_minor": 0,
  "metadata": {
    "colab": {
      "name": "Mini_Projects_2/ part 2.ipynb",
      "provenance": [],
      "include_colab_link": true
    },
    "kernelspec": {
      "name": "python3",
      "display_name": "Python 3"
    }
  },
  "cells": [
    {
      "cell_type": "markdown",
      "metadata": {
        "id": "view-in-github",
        "colab_type": "text"
      },
      "source": [
        "<a href=\"https://colab.research.google.com/github/rawanaboulfotoh/Machine-Learning-Training/blob/main/Mini_Projects_2_part_2.ipynb\" target=\"_parent\"><img src=\"https://colab.research.google.com/assets/colab-badge.svg\" alt=\"Open In Colab\"/></a>"
      ]
    },
    {
      "cell_type": "markdown",
      "metadata": {
        "id": "c2sSEq3uSurn"
      },
      "source": [
        "# Files and Exceptions"
      ]
    },
    {
      "cell_type": "code",
      "metadata": {
        "colab": {
          "base_uri": "https://localhost:8080/"
        },
        "id": "R5drmFjOYSo6",
        "outputId": "f0445cdc-6e84-4701-df99-7cf9dacde6b1"
      },
      "source": [
        "from google.colab import drive\n",
        "drive.mount('/content/drive')"
      ],
      "execution_count": 1,
      "outputs": [
        {
          "output_type": "stream",
          "text": [
            "Mounted at /content/drive\n"
          ],
          "name": "stdout"
        }
      ]
    },
    {
      "cell_type": "markdown",
      "metadata": {
        "id": "qw2XyRs-TWIF"
      },
      "source": [
        "**8. Sum of Numbers** <br>\n",
        "Assume that a file containing a series of integers is named numbers.txt and exists on the computer’s disk. Write a program that reads all of the numbers stored in the file and calculates their total.\n"
      ]
    },
    {
      "cell_type": "code",
      "metadata": {
        "colab": {
          "base_uri": "https://localhost:8080/"
        },
        "id": "HAnIOu8AVrnJ",
        "outputId": "1b5636ce-60ca-4870-9a64-bc338a2fab98"
      },
      "source": [
        "def main ():\n",
        "  num = open ('/content/drive/MyDrive/numbers (1).txt','r')\n",
        "  total = 0.0\n",
        "  for line in num :\n",
        "    run_time = float(line)\n",
        "    print('the number :', run_time)\n",
        "    total+=run_time\n",
        "  num .close()\n",
        "  print('')\n",
        "  print('the total = ' , total)\n",
        "main()\n",
        "\n",
        "\n"
      ],
      "execution_count": 3,
      "outputs": [
        {
          "output_type": "stream",
          "text": [
            "the number : 86850343.0\n",
            "the number : 88065952.0\n",
            "the number : 89381968.0\n",
            "the number : 89536251.0\n",
            "the number : 89714939.0\n",
            "the number : 89826424.0\n",
            "the number : 90124775.0\n",
            "the number : 90672109.0\n",
            "the number : 91408453.0\n",
            "the number : 92438737.0\n",
            "the number : 93361277.0\n",
            "the number : 93890243.0\n",
            "the number : 94372638.0\n",
            "the number : 94759578.0\n",
            "the number : 95079649.0\n",
            "the number : 95439651.0\n",
            "the number : 95611217.0\n",
            "the number : 95980818.0\n",
            "the number : 96336673.0\n",
            "the number : 96581524.0\n",
            "the number : 97041824.0\n",
            "the number : 97379048.0\n",
            "the number : 97672500.0\n",
            "the number : 98066518.0\n",
            "the number : 98479598.0\n",
            "the number : 98934553.0\n",
            "the number : 99246321.0\n",
            "the number : 99431136.0\n",
            "the number : 99835823.0\n",
            "the number : 100049946.0\n",
            "the number : 100234498.0\n",
            "the number : 100568960.0\n",
            "the number : 100806870.0\n",
            "the number : 101097750.0\n",
            "the number : 101820859.0\n",
            "the number : 102455417.0\n",
            "the number : 103013163.0\n",
            "the number : 103523365.0\n",
            "the number : 104177442.0\n",
            "the number : 104757015.0\n",
            "the number : 105145703.0\n",
            "the number : 105694237.0\n",
            "the number : 106140898.0\n",
            "the number : 107246430.0\n",
            "the number : 109272544.0\n",
            "the number : 111539027.0\n",
            "the number : 112522852.0\n",
            "the number : 113783213.0\n",
            "the number : 114620610.0\n",
            "the number : 116036567.0\n",
            "the number : 117421727.0\n",
            "the number : 119134533.0\n",
            "the number : 120378586.0\n",
            "the number : 121554027.0\n",
            "the number : 121817833.0\n",
            "the number : 122730767.0\n",
            "the number : 123673909.0\n",
            "the number : 124747226.0\n",
            "\n",
            "the total =  5931486514.0\n"
          ],
          "name": "stdout"
        }
      ]
    },
    {
      "cell_type": "code",
      "metadata": {
        "id": "B7GImG_lSu-u"
      },
      "source": [
        ""
      ],
      "execution_count": null,
      "outputs": []
    },
    {
      "cell_type": "markdown",
      "metadata": {
        "id": "gW0mWcdDVgK4"
      },
      "source": [
        "**9. Average of Numbers** <br>\n",
        "Assume that a file containing a series of integers is named numbers.txt and exists on the computer’s disk. Write a program that calculates the average of all the numbers stored in\n",
        "the file"
      ]
    },
    {
      "cell_type": "code",
      "metadata": {
        "id": "3-DZx-vnSvCe"
      },
      "source": [
        ""
      ],
      "execution_count": null,
      "outputs": []
    },
    {
      "cell_type": "code",
      "metadata": {
        "colab": {
          "base_uri": "https://localhost:8080/"
        },
        "id": "cy8LJiQvVzFP",
        "outputId": "b246adfe-668d-4459-a383-4ee652112f76"
      },
      "source": [
        "def main ():\n",
        "  num = open ('/content/drive/MyDrive/numbers (1).txt','r')\n",
        "  total = 0.0\n",
        "  count = 0\n",
        "  for line in num :\n",
        "    run_time = float(line)\n",
        "    print('the number :', run_time)\n",
        "    count += 1\n",
        "    total+=run_time\n",
        "  num .close()\n",
        "  print('')\n",
        "  print('the total = ' ,format( total/count , ',.2f'))\n",
        "main()"
      ],
      "execution_count": 5,
      "outputs": [
        {
          "output_type": "stream",
          "text": [
            "the number : 86850343.0\n",
            "the number : 88065952.0\n",
            "the number : 89381968.0\n",
            "the number : 89536251.0\n",
            "the number : 89714939.0\n",
            "the number : 89826424.0\n",
            "the number : 90124775.0\n",
            "the number : 90672109.0\n",
            "the number : 91408453.0\n",
            "the number : 92438737.0\n",
            "the number : 93361277.0\n",
            "the number : 93890243.0\n",
            "the number : 94372638.0\n",
            "the number : 94759578.0\n",
            "the number : 95079649.0\n",
            "the number : 95439651.0\n",
            "the number : 95611217.0\n",
            "the number : 95980818.0\n",
            "the number : 96336673.0\n",
            "the number : 96581524.0\n",
            "the number : 97041824.0\n",
            "the number : 97379048.0\n",
            "the number : 97672500.0\n",
            "the number : 98066518.0\n",
            "the number : 98479598.0\n",
            "the number : 98934553.0\n",
            "the number : 99246321.0\n",
            "the number : 99431136.0\n",
            "the number : 99835823.0\n",
            "the number : 100049946.0\n",
            "the number : 100234498.0\n",
            "the number : 100568960.0\n",
            "the number : 100806870.0\n",
            "the number : 101097750.0\n",
            "the number : 101820859.0\n",
            "the number : 102455417.0\n",
            "the number : 103013163.0\n",
            "the number : 103523365.0\n",
            "the number : 104177442.0\n",
            "the number : 104757015.0\n",
            "the number : 105145703.0\n",
            "the number : 105694237.0\n",
            "the number : 106140898.0\n",
            "the number : 107246430.0\n",
            "the number : 109272544.0\n",
            "the number : 111539027.0\n",
            "the number : 112522852.0\n",
            "the number : 113783213.0\n",
            "the number : 114620610.0\n",
            "the number : 116036567.0\n",
            "the number : 117421727.0\n",
            "the number : 119134533.0\n",
            "the number : 120378586.0\n",
            "the number : 121554027.0\n",
            "the number : 121817833.0\n",
            "the number : 122730767.0\n",
            "the number : 123673909.0\n",
            "the number : 124747226.0\n",
            "\n",
            "the total =  102,267,008.86\n"
          ],
          "name": "stdout"
        }
      ]
    },
    {
      "cell_type": "markdown",
      "metadata": {
        "id": "vjchCYETVwPx"
      },
      "source": [
        "**10. Random Number File Writer**<br>\n",
        "Write a program that writes a series of random numbers to a file. Each random number should be in the range of 1 \n",
        "through 500. The application should let the user specify how\n",
        "many random numbers the file will hold.\n"
      ]
    },
    {
      "cell_type": "code",
      "metadata": {
        "id": "DCyba_BZVxLF"
      },
      "source": [
        ""
      ],
      "execution_count": null,
      "outputs": []
    },
    {
      "cell_type": "code",
      "metadata": {
        "colab": {
          "base_uri": "https://localhost:8080/"
        },
        "id": "Eqem_80CV4p9",
        "outputId": "f8cf4f9e-eb2d-468e-8190-05eafd06f652"
      },
      "source": [
        "import random \n",
        "def main():\n",
        "  days = int(input('how many days :'))\n",
        "  number_file = open('/content/drive/MyDrive/numbers (1).txt','w')\n",
        "  for count in range (1 , days+1):\n",
        "      sales = random.randint(1,500)\n",
        "      number_file.write(str(sales)+'\\n')\n",
        "  number_file.close()\n",
        "  print('data written to number_file.txt')\n",
        "main()"
      ],
      "execution_count": 6,
      "outputs": [
        {
          "output_type": "stream",
          "text": [
            "how many days :5\n",
            "data written to number_file.txt\n"
          ],
          "name": "stdout"
        }
      ]
    },
    {
      "cell_type": "code",
      "metadata": {
        "id": "uZ7CQJM0VxN5"
      },
      "source": [
        ""
      ],
      "execution_count": null,
      "outputs": []
    },
    {
      "cell_type": "markdown",
      "metadata": {
        "id": "p75ZKqbXWMdY"
      },
      "source": [
        "**11.  Exception Handing** <br>\n",
        "Modify the program that you wrote for Exercise 9 so it handles the following exceptions: <br>\n",
        "* It should handle any IOError exceptions that are raised when the file is opened and data\n",
        "is read from it. <br>\n",
        "* It should handle any ValueError exceptions that are raised when the items that are read from the file are converted to a number."
      ]
    },
    {
      "cell_type": "code",
      "metadata": {
        "id": "22SOHQbrVxRE"
      },
      "source": [
        ""
      ],
      "execution_count": null,
      "outputs": []
    },
    {
      "cell_type": "code",
      "metadata": {
        "colab": {
          "base_uri": "https://localhost:8080/"
        },
        "id": "7Uk_fHA8V-tY",
        "outputId": "26f96ce2-4935-48ab-acf9-ac32cc926ad1"
      },
      "source": [
        "def main ():\n",
        "  try:  \n",
        "    num = open ('/content/drive/MyDrive/numbers (1).txt','r')\n",
        "    total = 0.0\n",
        "    count = 0\n",
        "    for line in num :\n",
        "      run_time = float(line)\n",
        "      print('the number :', run_time)\n",
        "      count += 1\n",
        "      total+=run_time\n",
        "    num .close()\n",
        "    print('')\n",
        "    print('the average = ' ,format( total/count , ',.2f'))\n",
        "  except IOError:\n",
        "    print('an error occured trying to read the file')\n",
        "  except ValueError :\n",
        "    print ('non numeric data fount in the file')\n",
        "  except:\n",
        "      print('error occured')\n",
        "main()"
      ],
      "execution_count": 7,
      "outputs": [
        {
          "output_type": "stream",
          "text": [
            "the number : 291.0\n",
            "the number : 35.0\n",
            "the number : 53.0\n",
            "the number : 159.0\n",
            "the number : 274.0\n",
            "\n",
            "the average =  162.40\n"
          ],
          "name": "stdout"
        }
      ]
    },
    {
      "cell_type": "code",
      "metadata": {
        "id": "X9B0JqS6WI7a"
      },
      "source": [
        "from google.colab import drive\n",
        "drive.mount('/content/drive')"
      ],
      "execution_count": null,
      "outputs": []
    },
    {
      "cell_type": "code",
      "metadata": {
        "id": "3p0MENR_WrBV"
      },
      "source": [
        ""
      ],
      "execution_count": null,
      "outputs": []
    }
  ]
}